{
 "cells": [
  {
   "cell_type": "markdown",
   "metadata": {},
   "source": [
    "## 1.create folders for the project"
   ]
  },
  {
   "cell_type": "code",
   "execution_count": 1,
   "metadata": {},
   "outputs": [
    {
     "data": {
      "text/plain": [
       "'2022-04-07'"
      ]
     },
     "execution_count": 1,
     "metadata": {},
     "output_type": "execute_result"
    }
   ],
   "source": [
    "#create workspace\n",
    "import datetime\n",
    "timestamp = datetime.datetime.now().strftime('%Y-%m-%d')\n",
    "timestamp"
   ]
  },
  {
   "cell_type": "code",
   "execution_count": 2,
   "metadata": {},
   "outputs": [],
   "source": [
    "import os  \n",
    "# folder_bf is used for storing brownfield data\n",
    "folder_prj = 'Data/'+timestamp\n",
    "if not os.path.exists(folder_prj):\n",
    "    os.makedirs(folder_prj)"
   ]
  },
  {
   "cell_type": "markdown",
   "metadata": {},
   "source": [
    "## 2.download data"
   ]
  },
  {
   "cell_type": "markdown",
   "metadata": {},
   "source": [
    "###  2.1 brownfield data"
   ]
  },
  {
   "cell_type": "code",
   "execution_count": 3,
   "metadata": {},
   "outputs": [],
   "source": [
    "# folder_bf is used for storing brownfield data\n",
    "folder_bf = 'Data/'+timestamp+'/Brownfield/' \n",
    "if not os.path.exists(folder_bf):\n",
    "    os.makedirs(folder_bf)"
   ]
  },
  {
   "cell_type": "code",
   "execution_count": 1,
   "metadata": {},
   "outputs": [
    {
     "ename": "KeyboardInterrupt",
     "evalue": "Interrupted by user",
     "output_type": "error",
     "traceback": [
      "\u001b[1;31m---------------------------------------------------------------------------\u001b[0m",
      "\u001b[1;31mKeyboardInterrupt\u001b[0m                         Traceback (most recent call last)",
      "\u001b[1;32m<ipython-input-1-d14b37aa2aeb>\u001b[0m in \u001b[0;36m<module>\u001b[1;34m\u001b[0m\n\u001b[0;32m      3\u001b[0m \u001b[1;32mfrom\u001b[0m \u001b[0mbs4\u001b[0m \u001b[1;32mimport\u001b[0m \u001b[0mBeautifulSoup\u001b[0m\u001b[1;33m\u001b[0m\u001b[1;33m\u001b[0m\u001b[0m\n\u001b[0;32m      4\u001b[0m \u001b[1;32mfrom\u001b[0m \u001b[0murllib\u001b[0m \u001b[1;32mimport\u001b[0m \u001b[0mrequest\u001b[0m\u001b[1;33m\u001b[0m\u001b[1;33m\u001b[0m\u001b[0m\n\u001b[1;32m----> 5\u001b[1;33m \u001b[0mheaders\u001b[0m\u001b[1;33m=\u001b[0m\u001b[0meval\u001b[0m\u001b[1;33m(\u001b[0m\u001b[0minput\u001b[0m\u001b[1;33m(\u001b[0m\u001b[1;34m'headers:'\u001b[0m\u001b[1;33m)\u001b[0m\u001b[1;33m)\u001b[0m\u001b[1;33m\u001b[0m\u001b[1;33m\u001b[0m\u001b[0m\n\u001b[0m\u001b[0;32m      6\u001b[0m \u001b[1;33m\u001b[0m\u001b[0m\n\u001b[0;32m      7\u001b[0m \u001b[1;31m#{'User-Agent':'Mozilla/5.0 (Windows NT 10.0; Win64; x64; rv:98.0) Gecko/20100101 Firefox/98.0'}\u001b[0m\u001b[1;33m\u001b[0m\u001b[1;33m\u001b[0m\u001b[1;33m\u001b[0m\u001b[0m\n",
      "\u001b[1;32mC:\\ProgramData\\Anaconda3\\lib\\site-packages\\ipykernel\\kernelbase.py\u001b[0m in \u001b[0;36mraw_input\u001b[1;34m(self, prompt)\u001b[0m\n\u001b[0;32m    858\u001b[0m                 \u001b[1;34m\"raw_input was called, but this frontend does not support input requests.\"\u001b[0m\u001b[1;33m\u001b[0m\u001b[1;33m\u001b[0m\u001b[0m\n\u001b[0;32m    859\u001b[0m             )\n\u001b[1;32m--> 860\u001b[1;33m         return self._input_request(str(prompt),\n\u001b[0m\u001b[0;32m    861\u001b[0m             \u001b[0mself\u001b[0m\u001b[1;33m.\u001b[0m\u001b[0m_parent_ident\u001b[0m\u001b[1;33m,\u001b[0m\u001b[1;33m\u001b[0m\u001b[1;33m\u001b[0m\u001b[0m\n\u001b[0;32m    862\u001b[0m             \u001b[0mself\u001b[0m\u001b[1;33m.\u001b[0m\u001b[0m_parent_header\u001b[0m\u001b[1;33m,\u001b[0m\u001b[1;33m\u001b[0m\u001b[1;33m\u001b[0m\u001b[0m\n",
      "\u001b[1;32mC:\\ProgramData\\Anaconda3\\lib\\site-packages\\ipykernel\\kernelbase.py\u001b[0m in \u001b[0;36m_input_request\u001b[1;34m(self, prompt, ident, parent, password)\u001b[0m\n\u001b[0;32m    902\u001b[0m             \u001b[1;32mexcept\u001b[0m \u001b[0mKeyboardInterrupt\u001b[0m\u001b[1;33m:\u001b[0m\u001b[1;33m\u001b[0m\u001b[1;33m\u001b[0m\u001b[0m\n\u001b[0;32m    903\u001b[0m                 \u001b[1;31m# re-raise KeyboardInterrupt, to truncate traceback\u001b[0m\u001b[1;33m\u001b[0m\u001b[1;33m\u001b[0m\u001b[1;33m\u001b[0m\u001b[0m\n\u001b[1;32m--> 904\u001b[1;33m                 \u001b[1;32mraise\u001b[0m \u001b[0mKeyboardInterrupt\u001b[0m\u001b[1;33m(\u001b[0m\u001b[1;34m\"Interrupted by user\"\u001b[0m\u001b[1;33m)\u001b[0m \u001b[1;32mfrom\u001b[0m \u001b[1;32mNone\u001b[0m\u001b[1;33m\u001b[0m\u001b[1;33m\u001b[0m\u001b[0m\n\u001b[0m\u001b[0;32m    905\u001b[0m             \u001b[1;32mexcept\u001b[0m \u001b[0mException\u001b[0m \u001b[1;32mas\u001b[0m \u001b[0me\u001b[0m\u001b[1;33m:\u001b[0m\u001b[1;33m\u001b[0m\u001b[1;33m\u001b[0m\u001b[0m\n\u001b[0;32m    906\u001b[0m                 \u001b[0mself\u001b[0m\u001b[1;33m.\u001b[0m\u001b[0mlog\u001b[0m\u001b[1;33m.\u001b[0m\u001b[0mwarning\u001b[0m\u001b[1;33m(\u001b[0m\u001b[1;34m\"Invalid Message:\"\u001b[0m\u001b[1;33m,\u001b[0m \u001b[0mexc_info\u001b[0m\u001b[1;33m=\u001b[0m\u001b[1;32mTrue\u001b[0m\u001b[1;33m)\u001b[0m\u001b[1;33m\u001b[0m\u001b[1;33m\u001b[0m\u001b[0m\n",
      "\u001b[1;31mKeyboardInterrupt\u001b[0m: Interrupted by user"
     ]
    }
   ],
   "source": [
    "import requests\n",
    "import time\n",
    "from bs4 import BeautifulSoup\n",
    "from urllib import request\n",
    "headers=eval(input('headers:'))\n",
    "\n",
    "#{'User-Agent':'Mozilla/5.0 (Windows NT 10.0; Win64; x64; rv:98.0) Gecko/20100101 Firefox/98.0'}"
   ]
  },
  {
   "cell_type": "code",
   "execution_count": 5,
   "metadata": {},
   "outputs": [],
   "source": [
    "def scrapy(url, select, headers):\n",
    "    res = requests.get(url,headers=headers)\n",
    "    soup=BeautifulSoup(res.text,'html.parser')\n",
    "    url=soup.select(select)\n",
    "    file_url=url[0].get('href')\n",
    "    \n",
    "    return file_url"
   ]
  },
  {
   "cell_type": "markdown",
   "metadata": {},
   "source": [
    "#### Oldham"
   ]
  },
  {
   "cell_type": "code",
   "execution_count": 6,
   "metadata": {
    "scrolled": true
   },
   "outputs": [
    {
     "data": {
      "text/plain": [
       "('Data/2022-04-07/Brownfield//Oldham.csv',\n",
       " <http.client.HTTPMessage at 0x7f96e43d6250>)"
      ]
     },
     "execution_count": 6,
     "metadata": {},
     "output_type": "execute_result"
    }
   ],
   "source": [
    "# first url\n",
    "urlO='https://www.oldham.gov.uk/homepage/1386/brownfield_land_register'\n",
    "selectO = '#content > div:nth-child(2) > div > div > div > div:nth-child(2) > div > ul:nth-child(24) > li:nth-child(1) > a'\n",
    "file_url_O=scrapy(urlO,selectO,headers)\n",
    "\n",
    "#sub_url\n",
    "selectO2='#content > ul > li > div > a'\n",
    "file_url_02=scrapy(file_url_O,selectO2,headers)\n",
    "\n",
    "#sub_sub_url\n",
    "selectO3='#content > a'\n",
    "file_url_O3=scrapy(file_url_02,selectO3,headers)\n",
    "\n",
    "# download datset\n",
    "file_pathO =folder_bf +'/Oldham.csv'\n",
    "request.urlretrieve(file_url_O3, file_pathO)"
   ]
  },
  {
   "cell_type": "markdown",
   "metadata": {},
   "source": [
    "#### Rochdale"
   ]
  },
  {
   "cell_type": "code",
   "execution_count": 7,
   "metadata": {},
   "outputs": [
    {
     "data": {
      "text/plain": [
       "('Data/2022-04-07/Brownfield//Rochdale.csv',\n",
       " <http.client.HTTPMessage at 0x7f96e452e350>)"
      ]
     },
     "execution_count": 7,
     "metadata": {},
     "output_type": "execute_result"
    }
   ],
   "source": [
    "urlR='http://www.rochdale.gov.uk/planning-and-building/Pages/brownfield-land-register.aspx'\n",
    "selectR='#ctl00_PlaceHolderMain_ctl02__ControlWrapper_RichHtmlField > ul:nth-child(19) > li:nth-child(5) > a'\n",
    "file_url_R=scrapy(urlR,selectR,headers)\n",
    "file_url_R = 'http://www.rochdale.gov.uk'+file_url_R\n",
    "file_pathR=folder_bf +'/Rochdale.csv'\n",
    "request.urlretrieve(file_url_R, file_pathR)"
   ]
  },
  {
   "cell_type": "markdown",
   "metadata": {},
   "source": [
    "#### Salford"
   ]
  },
  {
   "cell_type": "code",
   "execution_count": 8,
   "metadata": {},
   "outputs": [
    {
     "data": {
      "text/plain": [
       "('Data/2022-04-07/Brownfield//Salford.csv',\n",
       " <http.client.HTTPMessage at 0x7f96e46d71d0>)"
      ]
     },
     "execution_count": 8,
     "metadata": {},
     "output_type": "execute_result"
    }
   ],
   "source": [
    "urlS='https://www.salford.gov.uk/brownfield-register'\n",
    "selectS='#standard-page > div:nth-child(1) > div.col-xs-12.col-md-8 > div > ul > li:nth-child(2) > a'\n",
    "file_url_S=scrapy(urlS,selectS,headers)\n",
    "file_url_S = 'https://www.salford.gov.uk'+file_url_S\n",
    "file_pathS=folder_bf +'/Salford.csv'\n",
    "request.urlretrieve(file_url_S, file_pathS)"
   ]
  },
  {
   "cell_type": "markdown",
   "metadata": {},
   "source": [
    "#### Bolton"
   ]
  },
  {
   "cell_type": "code",
   "execution_count": 9,
   "metadata": {},
   "outputs": [
    {
     "data": {
      "text/plain": [
       "('Data/2022-04-07/Brownfield//Bolton.csv',\n",
       " <http.client.HTTPMessage at 0x7f96e4733cd0>)"
      ]
     },
     "execution_count": 9,
     "metadata": {},
     "output_type": "execute_result"
    }
   ],
   "source": [
    "urlB = 'https://www.bolton.gov.uk/planning-policy-strategy/brownfield-register'\n",
    "selectB = '#content > div > div > div > article > div > p:nth-child(2) > a'\n",
    "file_url_B=scrapy(urlB,selectB,headers)\n",
    "file_pathB=folder_bf +'/Bolton.csv'\n",
    "request.urlretrieve(file_url_B, file_pathB)"
   ]
  },
  {
   "cell_type": "markdown",
   "metadata": {},
   "source": [
    "#### Manchester"
   ]
  },
  {
   "cell_type": "code",
   "execution_count": 10,
   "metadata": {},
   "outputs": [
    {
     "data": {
      "text/plain": [
       "('Data/2022-04-07/Brownfield//Manchester.csv',\n",
       " <http.client.HTTPMessage at 0x7f96e47ab310>)"
      ]
     },
     "execution_count": 10,
     "metadata": {},
     "output_type": "execute_result"
    }
   ],
   "source": [
    "# first url\n",
    "urlM = 'https://www.manchester.gov.uk/info/200074/planning/7293/brownfield_register_pilot'\n",
    "selectM ='#content > section > article > p > a:nth-child(1)'\n",
    "file_url_M=scrapy(urlM,selectM,headers)\n",
    "\n",
    "#sub_url\n",
    "selectM2='#content > section > article > h3 > a'\n",
    "file_url_M2=scrapy(file_url_M,selectM2,headers)\n",
    "\n",
    "file_pathM =folder_bf +'/Manchester.csv'\n",
    "request.urlretrieve(file_url_M2, file_pathM)"
   ]
  },
  {
   "cell_type": "markdown",
   "metadata": {},
   "source": [
    "#### Bury"
   ]
  },
  {
   "cell_type": "code",
   "execution_count": 11,
   "metadata": {},
   "outputs": [
    {
     "data": {
      "text/plain": [
       "('Data/2022-04-07/Brownfield//Bury.csv',\n",
       " <http.client.HTTPMessage at 0x7f96e4733a90>)"
      ]
     },
     "execution_count": 11,
     "metadata": {},
     "output_type": "execute_result"
    }
   ],
   "source": [
    "urlBU='https://www.bury.gov.uk/index.aspx?articleid=11050'\n",
    "selectBU='#download > div > div:nth-child(1) > div.odd > div > a'\n",
    "file_url_BU=scrapy(urlBU,selectBU,headers)\n",
    "file_pathBU=folder_bf +'/Bury.csv'\n",
    "request.urlretrieve(file_url_BU, file_pathBU)"
   ]
  },
  {
   "cell_type": "markdown",
   "metadata": {},
   "source": [
    "#### Trafford"
   ]
  },
  {
   "cell_type": "code",
   "execution_count": 12,
   "metadata": {},
   "outputs": [
    {
     "data": {
      "text/plain": [
       "('Data/2022-04-07/Brownfield//Trafford.csv',\n",
       " <http.client.HTTPMessage at 0x7f96e4718650>)"
      ]
     },
     "execution_count": 12,
     "metadata": {},
     "output_type": "execute_result"
    }
   ],
   "source": [
    "urlT='https://www.trafford.gov.uk/planning/strategic-planning/local-plan/brownfield-land-register.aspx'\n",
    "selectT='#main-article > p:nth-child(8) > a'\n",
    "file_url_T=scrapy(urlT,selectT,headers)\n",
    "file_url_T = 'https://www.trafford.gov.uk'+file_url_T\n",
    "file_pathT=folder_bf +'/Trafford.csv'\n",
    "request.urlretrieve(file_url_T, file_pathT)"
   ]
  },
  {
   "cell_type": "markdown",
   "metadata": {},
   "source": [
    "#### Wigan"
   ]
  },
  {
   "cell_type": "code",
   "execution_count": 13,
   "metadata": {
    "scrolled": true
   },
   "outputs": [],
   "source": [
    "#'https://www.wigan.gov.uk/Council/Strategies-Plans-and-Policies/Planning/Brownfield-register.aspx'"
   ]
  },
  {
   "cell_type": "code",
   "execution_count": 14,
   "metadata": {},
   "outputs": [
    {
     "data": {
      "text/plain": [
       "('Data/2022-04-07/Brownfield//Wigan.csv',\n",
       " <http.client.HTTPMessage at 0x7f96e47e6f90>)"
      ]
     },
     "execution_count": 14,
     "metadata": {},
     "output_type": "execute_result"
    }
   ],
   "source": [
    "urlW='https://data.gov.uk/dataset/2a962992-277a-4fa2-ab81-1065da56df3d/brownfield'\n",
    "selectW='#content > div > div > div > section > table > tbody > tr:nth-child(4) > td:nth-child(1) > a'\n",
    "file_url_W=scrapy(urlW,selectW,headers)\n",
    "file_pathW=folder_bf +'/Wigan.csv'\n",
    "request.urlretrieve(file_url_W, file_pathW)"
   ]
  },
  {
   "cell_type": "markdown",
   "metadata": {},
   "source": [
    "#### Stockport"
   ]
  },
  {
   "cell_type": "code",
   "execution_count": 15,
   "metadata": {},
   "outputs": [
    {
     "data": {
      "text/plain": [
       "('Data/2022-04-07/Brownfield//Stockport.csv',\n",
       " <http.client.HTTPMessage at 0x7f96e4861150>)"
      ]
     },
     "execution_count": 15,
     "metadata": {},
     "output_type": "execute_result"
    }
   ],
   "source": [
    "# first url\n",
    "urlST='https://www.stockport.gov.uk/brownfield/brownfield-land-register'\n",
    "selectST='#uitest-page-has-loaded > section > div > div > div:nth-child(3) > article > p:nth-child(6) > a'\n",
    "file_url_ST=scrapy(urlST,selectST,headers)\n",
    "\n",
    "# sub_url\n",
    "selectST2='#content > div > div > div > section > table > tbody > tr:nth-child(1) > td:nth-child(1) > a'\n",
    "file_url_ST2=scrapy(file_url_ST,selectST2,headers)\n",
    "\n",
    "file_pathST=folder_bf +'/Stockport.csv'\n",
    "request.urlretrieve(file_url_ST2, file_pathST)"
   ]
  },
  {
   "cell_type": "markdown",
   "metadata": {},
   "source": [
    "#### Tameside"
   ]
  },
  {
   "cell_type": "code",
   "execution_count": 16,
   "metadata": {},
   "outputs": [
    {
     "data": {
      "text/plain": [
       "('Data/2022-04-07/Brownfield//Tameside.csv',\n",
       " <http.client.HTTPMessage at 0x7f96e4844c50>)"
      ]
     },
     "execution_count": 16,
     "metadata": {},
     "output_type": "execute_result"
    }
   ],
   "source": [
    "urlTA='https://www.tameside.gov.uk/planning/brownfieldregister'\n",
    "selectTA='#manincontent > ul > li:nth-child(2) > a'\n",
    "file_url_TA=scrapy(urlTA,selectTA,headers)\n",
    "file_url_TA = 'https://www.tameside.gov.uk'+file_url_TA\n",
    "file_pathTA=folder_bf +'/Tameside.csv'\n",
    "request.urlretrieve(file_url_TA, file_pathTA)"
   ]
  },
  {
   "cell_type": "markdown",
   "metadata": {},
   "source": [
    "### 2.2 download data about factors"
   ]
  },
  {
   "cell_type": "code",
   "execution_count": 17,
   "metadata": {},
   "outputs": [],
   "source": [
    "# folder_fac is used for storing datasets about factors\n",
    "folder_fac = 'Data/'+timestamp+'/factors/'\n",
    "if not os.path.exists(folder_fac):\n",
    "    os.makedirs(folder_fac)"
   ]
  },
  {
   "cell_type": "markdown",
   "metadata": {},
   "source": [
    "#### download  "
   ]
  },
  {
   "cell_type": "code",
   "execution_count": 18,
   "metadata": {},
   "outputs": [
    {
     "data": {
      "text/plain": [
       "('Data/2022-04-07/factors//education.zip',\n",
       " <http.client.HTTPMessage at 0x7f96e47dff90>)"
      ]
     },
     "execution_count": 18,
     "metadata": {},
     "output_type": "execute_result"
    }
   ],
   "source": [
    "#education \n",
    "file_path_edu = folder_fac + '/education.zip'\n",
    "file_url_edu = 'https://map.salford.gov.uk/geoserver/NE_open/ows?service=WFS&version=1.0.0&request=GetFeature&typeName=NE_open:v_gm_education_establishments&outputFormat=SHAPE-ZIP'\n",
    "request.urlretrieve(file_url_edu, file_path_edu)"
   ]
  },
  {
   "cell_type": "code",
   "execution_count": 19,
   "metadata": {},
   "outputs": [
    {
     "data": {
      "text/plain": [
       "('Data/2022-04-07/factors//youth_centers.zip',\n",
       " <http.client.HTTPMessage at 0x7f96e48b7dd0>)"
      ]
     },
     "execution_count": 19,
     "metadata": {},
     "output_type": "execute_result"
    }
   ],
   "source": [
    "#youth_centers\n",
    "file_path_youth = folder_fac + '/youth_centers.zip' \n",
    "file_url_youth ='https://map.salford.gov.uk/geoserver/NE_open/ows?service=WFS&version=1.0.0&request=GetFeature&typeName=NE_open:v_gm_youth_centres&outputFormat=SHAPE-ZIP'\n",
    "request.urlretrieve(file_url_youth,file_path_youth)"
   ]
  },
  {
   "cell_type": "code",
   "execution_count": 20,
   "metadata": {},
   "outputs": [
    {
     "data": {
      "text/plain": [
       "('Data/2022-04-07/factors//leisure_centers.zip',\n",
       " <http.client.HTTPMessage at 0x7f96e48bd3d0>)"
      ]
     },
     "execution_count": 20,
     "metadata": {},
     "output_type": "execute_result"
    }
   ],
   "source": [
    "#leisure_centers\n",
    "file_path_leisure = folder_fac + '/leisure_centers.zip' \n",
    "file_url_leisure = 'https://map.salford.gov.uk/geoserver/NE_open/ows?service=WFS&version=1.0.0&request=GetFeature&typeName=NE_open:v_gm_leisure_centres&outputFormat=SHAPE-ZIP'\n",
    "request.urlretrieve(file_url_leisure,file_path_leisure)"
   ]
  },
  {
   "cell_type": "markdown",
   "metadata": {},
   "source": [
    "#### extract file"
   ]
  },
  {
   "cell_type": "code",
   "execution_count": 21,
   "metadata": {},
   "outputs": [],
   "source": [
    "# folder_shp is used for storing shp files and analyse result\n",
    "folder_shp = 'Data/'+timestamp+'/shp/'\n",
    "if not os.path.exists(folder_shp):\n",
    "    os.makedirs(folder_shp)"
   ]
  },
  {
   "cell_type": "code",
   "execution_count": 22,
   "metadata": {},
   "outputs": [
    {
     "name": "stdout",
     "output_type": "stream",
     "text": [
      "education.zip >>> extracted success\n",
      "youth_centers.zip >>> extracted success\n",
      "leisure_centers.zip >>> extracted success\n"
     ]
    }
   ],
   "source": [
    "import shutil\n",
    "\n",
    "directory = folder_fac\n",
    "for file in os.listdir(directory):\n",
    "    filename = os.fsdecode(file)\n",
    "    if file.endswith(\".zip\"):\n",
    "        zip_file = directory + filename\n",
    "        extract_dir = folder_shp\n",
    "        archive_format = 'zip'\n",
    "        shutil.unpack_archive(zip_file, extract_dir, archive_format)\n",
    "        print(filename,'>>> extracted success')\n"
   ]
  },
  {
   "cell_type": "markdown",
   "metadata": {},
   "source": [
    "## 3. data preprocessing"
   ]
  },
  {
   "cell_type": "markdown",
   "metadata": {},
   "source": [
    "### 3.1 preprocessing the brownfield data"
   ]
  },
  {
   "cell_type": "markdown",
   "metadata": {},
   "source": [
    "#### select value and convert the location to the right format"
   ]
  },
  {
   "cell_type": "code",
   "execution_count": 23,
   "metadata": {},
   "outputs": [],
   "source": [
    "import pandas as pd\n",
    "import numpy as np\n",
    "import glob,os\n",
    "import warnings\n",
    "warnings.filterwarnings('ignore')"
   ]
  },
  {
   "cell_type": "code",
   "execution_count": 24,
   "metadata": {},
   "outputs": [],
   "source": [
    "# 1. Import datasets\n",
    "path = folder_bf\n",
    "file = glob.glob(os.path.join(path, \"*.csv\"))\n",
    "dl = []\n",
    "for f in file:\n",
    "    dl.append(pd.read_csv(f,encoding='ISO-8859-1'))"
   ]
  },
  {
   "cell_type": "code",
   "execution_count": 25,
   "metadata": {
    "scrolled": true
   },
   "outputs": [
    {
     "name": "stdout",
     "output_type": "stream",
     "text": [
      "['Tameside', 'Stockport', 'Bury', 'Manchester', 'Trafford', 'Oldham', 'Bolton', 'Wigan', 'Salford', 'Rochdale']\n"
     ]
    }
   ],
   "source": [
    "# 2. Select four features: Authortity, SiteNameAddress, GeoX, GeoY, Hectares\n",
    "# Get each datasets' file name\n",
    "file_names=[]\n",
    "for i in file:\n",
    "    file_name = os.path.basename(i)[:-4]\n",
    "    file_names.append(file_name)\n",
    "print(file_names)\n",
    "    \n",
    "# Select features\n",
    "dl2=[]\n",
    "for i in file_names:\n",
    "    file_name = i\n",
    "    if i != 'Rochdale':\n",
    "        index = file_names.index(i)\n",
    "        df=dl[index]\n",
    "        df=df[['SiteNameAddress','GeoX','GeoY','Hectares']]\n",
    "        df['Authority']=file_name\n",
    "        dl2.append(df)\n",
    "    else:\n",
    "        index = file_names.index(i)\n",
    "        df=dl[index].iloc[1:,[1,4,5,7]]\n",
    "        df.columns=['SiteNameAddress','EAST/WEST','NORTH/SOUTH','Hectares']\n",
    "        df['Authority']=file_name\n",
    "        dl2.append(df)"
   ]
  },
  {
   "cell_type": "code",
   "execution_count": 26,
   "metadata": {
    "scrolled": true
   },
   "outputs": [],
   "source": [
    "# 3. Convert XY to GeoX,GeoY (Only Trafford and Rochdale )\n",
    "from pyproj import Transformer\n",
    "transformer = Transformer.from_crs(\"epsg:27700\", \"EPSG:4326\", always_xy=True)\n",
    "# Trafford\n",
    "index_T = file_names.index('Trafford')\n",
    "X=dl2[index_T]['GeoY']\n",
    "Y=dl2[index_T]['GeoX']\n",
    "transformed=transformer.transform(X,Y)\n",
    "dl2[index_T]['GeoX']=transformed[0]\n",
    "dl2[index_T]['GeoY']=transformed[1]\n",
    "\n",
    "#Rochdale\n",
    "index_R = file_names.index('Rochdale')\n",
    "X=dl2[index_R]['EAST/WEST']\n",
    "Y=dl2[index_R]['NORTH/SOUTH']\n",
    "transformed=transformer.transform(X,Y)\n",
    "dl2[index_R]['EAST/WEST']=transformed[0]\n",
    "dl2[index_R]['NORTH/SOUTH']=transformed[1]\n",
    "dl2[index_R].columns=['SiteNameAddress','GeoX','GeoY','Hectares','Authority']"
   ]
  },
  {
   "cell_type": "markdown",
   "metadata": {},
   "source": [
    "#### convert the csv data to shp * and store them in shp folder"
   ]
  },
  {
   "cell_type": "code",
   "execution_count": 27,
   "metadata": {},
   "outputs": [],
   "source": [
    "# 1. Import Libraries\n",
    "from geopandas import GeoDataFrame\n",
    "from shapely.geometry import Point"
   ]
  },
  {
   "cell_type": "code",
   "execution_count": 28,
   "metadata": {},
   "outputs": [
    {
     "name": "stdout",
     "output_type": "stream",
     "text": [
      "Files(csv) converted to shp\n"
     ]
    }
   ],
   "source": [
    "# 2. Save converted files(shp)\n",
    "# Brownfield.shp directory\n",
    "\n",
    "for i in file_names:\n",
    "    index = file_names.index(i)\n",
    "    # Create tuples of geometry by zipping Longitude and latitude columns in your csv file\n",
    "    geometry = [Point(xy) for xy in zip(dl2[index].GeoX, dl2[index].GeoY)] \n",
    "    \n",
    "    # Define coordinate reference system on which to project your resulting shapefile， USING WGS1984\n",
    "    crs = {'init': 'epsg:4326'}\n",
    "    \n",
    "    # Convert pandas object (containing your csv) to geodataframe object using geopandas\n",
    "    gdf = GeoDataFrame(dl2[index], crs = crs, geometry=geometry)\n",
    "    \n",
    "    #Save file to local destination\n",
    "    output_filename = folder_shp + i + \".shp\"\n",
    "    gdf.to_file(filename= output_filename, driver='ESRI Shapefile')\n",
    "print(\"Files(csv) converted to shp\")"
   ]
  },
  {
   "cell_type": "markdown",
   "metadata": {},
   "source": [
    "## 4. analysis   -- notebook in arcgis pro--"
   ]
  },
  {
   "cell_type": "code",
   "execution_count": null,
   "metadata": {},
   "outputs": [],
   "source": [
    "#Importing shp files to Map from a certain location in windows- \n",
    "#importing shp to arcpy\n",
    "\n",
    "import arcpy\n",
    "import pandas as pd\n",
    "from geopandas import GeoDataFrame\n",
    "from shapely.geometry import Point\n",
    "import os\n",
    "import fiona\n",
    "\n",
    "directory='D:\\\\Convertible CSVs\\\\Shape Files\\\\'\n",
    "\n",
    "for file in os.listdir(directory):\n",
    "    filename = os.fsdecode(file)\n",
    "    if file.endswith(\".shp\"):                 #Ignoring files with endings different from .csv in your folder\n",
    "        shp_file = directory + filename\n",
    "        aprx = arcpy.mp.ArcGISProject(\"CURRENT\")\n",
    "        map = aprx.listMaps()[0]\n",
    "        map.addDataFromPath(shp_file)\n"
   ]
  }
 ],
 "metadata": {
  "kernelspec": {
   "display_name": "Python 3",
   "language": "python",
   "name": "python3"
  },
  "language_info": {
   "codemirror_mode": {
    "name": "ipython",
    "version": 3
   },
   "file_extension": ".py",
   "mimetype": "text/x-python",
   "name": "python",
   "nbconvert_exporter": "python",
   "pygments_lexer": "ipython3",
   "version": "3.8.8"
  },
  "toc": {
   "base_numbering": 1,
   "nav_menu": {},
   "number_sections": false,
   "sideBar": true,
   "skip_h1_title": false,
   "title_cell": "Table of Contents",
   "title_sidebar": "Contents",
   "toc_cell": false,
   "toc_position": {
    "height": "calc(100% - 180px)",
    "left": "10px",
    "top": "150px",
    "width": "332.549px"
   },
   "toc_section_display": true,
   "toc_window_display": false
  }
 },
 "nbformat": 4,
 "nbformat_minor": 4
}
